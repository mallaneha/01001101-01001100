{
 "cells": [
  {
   "cell_type": "markdown",
   "id": "organized-excitement",
   "metadata": {},
   "source": [
    "# Recurrent Neural Network (RNN)"
   ]
  },
  {
   "cell_type": "markdown",
   "id": "respected-mention",
   "metadata": {},
   "source": [
    "## Long Short-Term Memory (LSTM)"
   ]
  },
  {
   "cell_type": "code",
   "execution_count": 1,
   "id": "diagnostic-bullet",
   "metadata": {},
   "outputs": [],
   "source": [
    "import keras\n",
    "import numpy as np\n",
    "np.random.seed(2017) # for reproducibility\n",
    "from keras.preprocessing import sequence\n",
    "from keras.models import Sequential\n",
    "from keras.layers import Dense, Activation, Embedding, Dropout\n",
    "from keras.layers import LSTM\n",
    "from keras.datasets import imdb"
   ]
  },
  {
   "cell_type": "code",
   "execution_count": 3,
   "id": "great-advisory",
   "metadata": {},
   "outputs": [
    {
     "name": "stdout",
     "output_type": "stream",
     "text": [
      "25000 train sequences\n",
      "25000 test sequences\n",
      "Pad sequences (samples x time)\n",
      "X_train shape: (25000, 80)\n",
      "X_test shape: (25000, 80)\n"
     ]
    }
   ],
   "source": [
    "max_features = 20000\n",
    "maxlen = 80 # cut texts after this number of words (among top max_features most common words)\n",
    "batch_size = 32\n",
    "\n",
    "# Load data\n",
    "(X_train, y_train), (X_test, y_test) = imdb.load_data(num_words=max_features)\n",
    "print(len(X_train), 'train sequences')\n",
    "print(len(X_test), 'test sequences')\n",
    "\n",
    "print('Pad sequences (samples x time)')\n",
    "X_train = sequence.pad_sequences(X_train, maxlen=maxlen)\n",
    "X_test = sequence.pad_sequences(X_test, maxlen=maxlen)\n",
    "print('X_train shape:', X_train.shape)\n",
    "print('X_test shape:', X_test.shape)"
   ]
  },
  {
   "cell_type": "code",
   "execution_count": 17,
   "id": "emerging-radio",
   "metadata": {},
   "outputs": [
    {
     "name": "stdout",
     "output_type": "stream",
     "text": [
      "Epoch 1/5\n",
      "782/782 [==============================] - 129s 161ms/step - loss: 0.5091 - accuracy: 0.7358\n",
      "Epoch 2/5\n",
      "782/782 [==============================] - 136s 174ms/step - loss: 0.2591 - accuracy: 0.8983\n",
      "Epoch 3/5\n",
      "782/782 [==============================] - 145s 185ms/step - loss: 0.1712 - accuracy: 0.9364\n",
      "Epoch 4/5\n",
      "782/782 [==============================] - 138s 176ms/step - loss: 0.1163 - accuracy: 0.9570\n",
      "Epoch 5/5\n",
      "782/782 [==============================] - 131s 168ms/step - loss: 0.0767 - accuracy: 0.9725\n"
     ]
    },
    {
     "data": {
      "text/plain": [
       "<tensorflow.python.keras.callbacks.History at 0x29310ca7940>"
      ]
     },
     "execution_count": 17,
     "metadata": {},
     "output_type": "execute_result"
    }
   ],
   "source": [
    "#Model configuration\n",
    "model = Sequential()\n",
    "model.add(Embedding(max_features, 128))\n",
    "model.add(Dropout(0.2))\n",
    "model.add(LSTM(128, dropout=0.2, recurrent_dropout=0.2)) # try using a GRU instead, for fun\n",
    "model.add(Dense(1))\n",
    "model.add(Activation('sigmoid'))\n",
    "\n",
    "# try using different optimizers and different optimizer configs\n",
    "model.compile(loss='binary_crossentropy', optimizer='adam', \n",
    "metrics=['accuracy'])\n",
    "\n",
    "#Train\n",
    "model.fit(X_train, y_train, batch_size=batch_size, epochs=5)"
   ]
  },
  {
   "cell_type": "code",
   "execution_count": 19,
   "id": "celtic-adolescent",
   "metadata": {},
   "outputs": [
    {
     "name": "stdout",
     "output_type": "stream",
     "text": [
      "782/782 [==============================] - 13s 17ms/step - loss: 0.0395 - accuracy: 0.9876\n",
      "782/782 [==============================] - 14s 17ms/step - loss: 0.6537 - accuracy: 0.8189\n",
      "Train score: 0.03947638347744942\n",
      "Train accuracy: 0.9876400232315063\n",
      "Test score: 0.6537263989448547\n",
      "Test accuracy: 0.8189200162887573\n"
     ]
    }
   ],
   "source": [
    "# Evaluate\n",
    "train_score, train_acc = model.evaluate(X_train, y_train, batch_size=batch_size)\n",
    "test_score, test_acc = model.evaluate(X_test, y_test, batch_size=batch_size)\n",
    "print('Train score:', train_score)\n",
    "print('Train accuracy:', train_acc)\n",
    "print('Test score:', test_score)\n",
    "print('Test accuracy:', test_acc)"
   ]
  },
  {
   "cell_type": "markdown",
   "id": "diagnostic-bronze",
   "metadata": {},
   "source": [
    "## Transfer Learning\n"
   ]
  },
  {
   "cell_type": "code",
   "execution_count": 20,
   "id": "smaller-wagner",
   "metadata": {},
   "outputs": [],
   "source": [
    "from keras.datasets import mnist\n",
    "from keras.layers import Flatten\n",
    "from keras.layers import Convolution2D, MaxPooling2D\n",
    "from keras.utils import np_utils\n",
    "from keras import backend as K"
   ]
  },
  {
   "cell_type": "code",
   "execution_count": 25,
   "id": "cellular-majority",
   "metadata": {},
   "outputs": [
    {
     "name": "stdout",
     "output_type": "stream",
     "text": [
      "X_train shape: (30596, 28, 28, 1)\n",
      "30596 train samples\n",
      "5139 test samples\n",
      "Epoch 1/5\n",
      "240/240 [==============================] - 2s 8ms/step - loss: 1.6107 - accuracy: 0.1942 - val_loss: 1.6091 - val_accuracy: 0.1893\n",
      "Epoch 2/5\n",
      "240/240 [==============================] - 2s 7ms/step - loss: 1.6100 - accuracy: 0.1964 - val_loss: 1.6082 - val_accuracy: 0.1950\n",
      "Epoch 3/5\n",
      "240/240 [==============================] - 2s 7ms/step - loss: 1.6083 - accuracy: 0.2016 - val_loss: 1.6072 - val_accuracy: 0.2014\n",
      "Epoch 4/5\n",
      "240/240 [==============================] - 2s 7ms/step - loss: 1.6080 - accuracy: 0.2077 - val_loss: 1.6062 - val_accuracy: 0.2059\n",
      "Epoch 5/5\n",
      "240/240 [==============================] - 2s 7ms/step - loss: 1.6076 - accuracy: 0.2042 - val_loss: 1.6053 - val_accuracy: 0.2104\n",
      "Test score: 1.6052751541137695\n",
      "Test accuracy: 0.21035221219062805\n"
     ]
    }
   ],
   "source": [
    "batch_size = 128\n",
    "nb_classes = 5\n",
    "nb_epoch = 5\n",
    "\n",
    "# input image dimensions\n",
    "img_rows, img_cols = 28, 28\n",
    "\n",
    "# number of convolutional filters to use\n",
    "nb_filters = 32\n",
    "\n",
    "# size of pooling area for max pooling\n",
    "pool_size = 2\n",
    "\n",
    "# convolution kernel size\n",
    "kernel_size = 3\n",
    "\n",
    "input_shape = (img_rows, img_cols, 1)\n",
    "# the data, shuffled and split between train and test sets\n",
    "(X_train, y_train), (X_test, y_test) = mnist.load_data()\n",
    "\n",
    "# create two datasets one with digits below 5 and one with 5 and above\n",
    "X_train_lt5 = X_train[y_train < 5]\n",
    "y_train_lt5 = y_train[y_train < 5]\n",
    "X_test_lt5 = X_test[y_test < 5]\n",
    "y_test_lt5 = y_test[y_test < 5]\n",
    "\n",
    "X_train_gte5 = X_train[y_train >= 5]\n",
    "y_train_gte5 = y_train[y_train >= 5] - 5 # make classes start at 0 for\n",
    "X_test_gte5 = X_test[y_test >= 5] \n",
    " # np_utils.to_categorical\n",
    "y_test_gte5 = y_test[y_test >= 5] - 5\n",
    "\n",
    "\n",
    "# Train model for digits 0 to 4\n",
    "def train_model(model, train, test, nb_classes):\n",
    " X_train = train[0].reshape((train[0].shape[0],) + input_shape)\n",
    " X_test = test[0].reshape((test[0].shape[0],) + input_shape)\n",
    " X_train = X_train.astype('float32')\n",
    " X_test = X_test.astype('float32')\n",
    " X_train /= 255\n",
    " X_test /= 255\n",
    " print('X_train shape:', X_train.shape)\n",
    " print(X_train.shape[0], 'train samples')\n",
    " print(X_test.shape[0], 'test samples')\n",
    "\n",
    " # convert class vectors to binary class matrices\n",
    " Y_train = np_utils.to_categorical(train[1], nb_classes)\n",
    " Y_test = np_utils.to_categorical(test[1], nb_classes)\n",
    " model.compile(loss='categorical_crossentropy', optimizer='adadelta', metrics=['accuracy'])\n",
    " model.fit(X_train, Y_train, batch_size=batch_size, epochs=nb_epoch, verbose=1, validation_data=(X_test, Y_test))\n",
    " score = model.evaluate(X_test, Y_test, verbose=0)\n",
    " print('Test score:', score[0])\n",
    " print('Test accuracy:', score[1])\n",
    "\n",
    "\n",
    "# define two groups of layers: feature (convolutions) and classification (dense)\n",
    "feature_layers = [\n",
    " Convolution2D(nb_filters, kernel_size, kernel_size, padding='valid', input_shape=input_shape),\n",
    " Activation('relu'),\n",
    " Convolution2D(nb_filters, kernel_size, kernel_size),\n",
    " Activation('relu'),\n",
    " MaxPooling2D(pool_size=(pool_size, pool_size)),\n",
    " Dropout(0.25),\n",
    " Flatten(),\n",
    "]\n",
    "classification_layers = [\n",
    " Dense(128),\n",
    " Activation('relu'),\n",
    " Dropout(0.5),\n",
    " Dense(nb_classes),\n",
    " Activation('softmax')\n",
    "]\n",
    "\n",
    "# create complete model\n",
    "model = Sequential(feature_layers + classification_layers)\n",
    "\n",
    "# train model for 5-digit classification [0..4]\n",
    "train_model(model, (X_train_lt5, y_train_lt5), (X_test_lt5, y_test_lt5), nb_classes)"
   ]
  },
  {
   "cell_type": "code",
   "execution_count": 26,
   "id": "stylish-sentence",
   "metadata": {},
   "outputs": [
    {
     "name": "stdout",
     "output_type": "stream",
     "text": [
      "X_train shape: (29404, 28, 28, 1)\n",
      "29404 train samples\n",
      "4861 test samples\n",
      "Epoch 1/5\n",
      "230/230 [==============================] - 1s 4ms/step - loss: 1.6093 - accuracy: 0.2116 - val_loss: 1.6067 - val_accuracy: 0.2154\n",
      "Epoch 2/5\n",
      "230/230 [==============================] - 1s 3ms/step - loss: 1.6093 - accuracy: 0.2036 - val_loss: 1.6065 - val_accuracy: 0.2156\n",
      "Epoch 3/5\n",
      "230/230 [==============================] - 1s 3ms/step - loss: 1.6084 - accuracy: 0.2122 - val_loss: 1.6062 - val_accuracy: 0.2170\n",
      "Epoch 4/5\n",
      "230/230 [==============================] - 1s 4ms/step - loss: 1.6080 - accuracy: 0.2103 - val_loss: 1.6060 - val_accuracy: 0.2183\n",
      "Epoch 5/5\n",
      "230/230 [==============================] - 1s 4ms/step - loss: 1.6084 - accuracy: 0.2046 - val_loss: 1.6057 - val_accuracy: 0.2181\n",
      "Test score: 1.6057065725326538\n",
      "Test accuracy: 0.2180621325969696\n"
     ]
    }
   ],
   "source": [
    "# freeze feature layers and rebuild model\n",
    "for layer in feature_layers:\n",
    "    layer.trainable = False\n",
    "# transfer: train dense layers for new classification task [5..9]\n",
    "train_model(model, (X_train_gte5, y_train_gte5), (X_test_gte5, y_test_gte5), nb_classes)"
   ]
  }
 ],
 "metadata": {
  "kernelspec": {
   "display_name": "Python 3",
   "language": "python",
   "name": "python3"
  },
  "language_info": {
   "codemirror_mode": {
    "name": "ipython",
    "version": 3
   },
   "file_extension": ".py",
   "mimetype": "text/x-python",
   "name": "python",
   "nbconvert_exporter": "python",
   "pygments_lexer": "ipython3",
   "version": "3.8.3"
  }
 },
 "nbformat": 4,
 "nbformat_minor": 5
}
