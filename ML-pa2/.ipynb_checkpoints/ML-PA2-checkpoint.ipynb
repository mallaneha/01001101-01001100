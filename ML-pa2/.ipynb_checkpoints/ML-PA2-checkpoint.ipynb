{
 "cells": [
  {
   "cell_type": "markdown",
   "id": "departmental-milwaukee",
   "metadata": {},
   "source": [
    "# The Iris dataset\n",
    "## Visualization"
   ]
  },
  {
   "cell_type": "code",
   "execution_count": 2,
   "id": "given-brief",
   "metadata": {},
   "outputs": [
    {
     "data": {
      "image/png": "[encoded data removed]",
      "text/plain": [
       "<Figure size 432x288 with 1 Axes>"
      ]
     },
     "metadata": {
      "needs_background": "light"
     },
     "output_type": "display_data"
    }
   ],
   "source": [
    "from matplotlib import pyplot as plt\n",
    "import numpy as np\n",
    "# We load the data with load_iris from sklearn\n",
    "from sklearn.datasets import load_iris\n",
    "data = load_iris()\n",
    "# load_iris returns an object with several fields\n",
    "features = data.data\n",
    "feature_names = data.feature_names\n",
    "target = data.target\n",
    "target_names = data.target_names\n",
    "for t in range(3):\n",
    "    if t == 0:\n",
    "        c = 'r'\n",
    "        marker = '>'\n",
    "    elif t == 1:\n",
    "        c = 'g'\n",
    "        marker = 'o'\n",
    "    elif t == 2:\n",
    "        c = 'b'\n",
    "        marker = 'x'\n",
    "    plt.scatter(features[target == t,0], features[target == t,1], marker=marker, c=c)"
   ]
  },
  {
   "cell_type": "markdown",
   "id": "removed-marine",
   "metadata": {},
   "source": [
    "## Building our first classification model"
   ]
  },
  {
   "cell_type": "code",
   "execution_count": 3,
   "id": "actual-religion",
   "metadata": {},
   "outputs": [
    {
     "name": "stdout",
     "output_type": "stream",
     "text": [
      "Maximum of setosa: 1.9.\n"
     ]
    }
   ],
   "source": [
    "# We use NumPy fancy indexing to get an array of strings:\n",
    "labels = target_names[target]\n",
    "# The petal length is the feature at position 2\n",
    "plength = features[:, 2]\n",
    "# Build an array of booleans:\n",
    "is_setosa = (labels == 'setosa')\n",
    "# This is the important step:\n",
    "max_setosa = plength[is_setosa].max()\n",
    "min_non_setosa = plength[~is_setosa].min()\n",
    "print('Maximum of setosa: {0}.'.format(max_setosa))"
   ]
  },
  {
   "cell_type": "code",
   "execution_count": 4,
   "id": "scientific-overall",
   "metadata": {},
   "outputs": [
    {
     "name": "stdout",
     "output_type": "stream",
     "text": [
      "Minimum of others: 3.0.\n"
     ]
    }
   ],
   "source": [
    "print('Minimum of others: {0}.'.format(min_non_setosa))"
   ]
  },
  {
   "cell_type": "code",
   "execution_count": 5,
   "id": "incorporated-glucose",
   "metadata": {},
   "outputs": [],
   "source": [
    "# ~ is the boolean negation operator\n",
    "features = features[~is_setosa]\n",
    "labels = labels[~is_setosa]\n",
    "# Build a new target variable, is_virginica\n",
    "is_virginica = (labels == 'virginica')"
   ]
  },
  {
   "cell_type": "code",
   "execution_count": 6,
   "id": "isolated-dating",
   "metadata": {},
   "outputs": [],
   "source": [
    "# Initialize best_acc to impossibly low value\n",
    "best_acc = -1.0\n",
    "for fi in range(features.shape[1]):\n",
    "    # We are going to test all possible thresholds\n",
    "    thresh = features[:,fi]\n",
    "    for t in thresh:\n",
    "        # Get the vector for feature `fi`\n",
    "        feature_i = features[:, fi]\n",
    "        #apply threshold `t`\n",
    "        pred = (feature_i > t)\n",
    "        acc = (pred == is_virginica).mean()\n",
    "        rev_acc = (pred == ~is_virginica).mean()\n",
    "        if rev_acc > acc:\n",
    "            reverse = True\n",
    "            acc = rev_acc\n",
    "        else:\n",
    "            reverse = False\n",
    "\n",
    "        if acc > best_acc:\n",
    "            best_acc = acc\n",
    "            best_fi = fi\n",
    "            best_t = t\n",
    "            best_reverse = reverse"
   ]
  },
  {
   "cell_type": "code",
   "execution_count": 7,
   "id": "romantic-vietnamese",
   "metadata": {},
   "outputs": [],
   "source": [
    "def is_virginica_test(fi, t, reverse, example):\n",
    "    \"Apply threshold model to a new example\"\n",
    "    test = example[fi] > t\n",
    "    if reverse:\n",
    "        test = not test\n",
    "    return test"
   ]
  },
  {
   "cell_type": "code",
   "execution_count": 8,
   "id": "forward-pipeline",
   "metadata": {},
   "outputs": [
    {
     "name": "stdout",
     "output_type": "stream",
     "text": [
      "Accuracy: 95.0%\n"
     ]
    }
   ],
   "source": [
    "from sklearn.neighbors import KNeighborsClassifier\n",
    "knn = KNeighborsClassifier(n_neighbors=5)\n",
    "\n",
    "correct = 0.0\n",
    "for ei in range(len(features)):\n",
    "    # select all but the one at position `ei`:\n",
    "    training = np.ones(len(features), bool)\n",
    "    training[ei] = False\n",
    "    testing = ~training\n",
    "    model = knn.fit(features[training], is_virginica[training])\n",
    "    predictions = knn.predict(features[testing])\n",
    "    correct += np.sum(predictions == is_virginica[testing])\n",
    "acc = correct/float(len(features))\n",
    "print('Accuracy: {0:.1%}'.format(acc))"
   ]
  },
  {
   "cell_type": "markdown",
   "id": "administrative-puzzle",
   "metadata": {},
   "source": [
    "## Building more complex classifiers"
   ]
  },
  {
   "cell_type": "code",
   "execution_count": 9,
   "id": "pacific-calibration",
   "metadata": {
    "scrolled": true
   },
   "outputs": [
    {
     "name": "stdout",
     "output_type": "stream",
     "text": [
      "Mean accuracy: 93.0%\n"
     ]
    }
   ],
   "source": [
    "from sklearn.neighbors import KNeighborsClassifier\n",
    "classifier = KNeighborsClassifier(n_neighbors=1)\n",
    "\n",
    "# from sklearn.cross_validation import KFold\n",
    "# kf = KFold(len(features), n_folds=5, shuffle=True)\n",
    "\n",
    "from sklearn.model_selection import KFold\n",
    "kf = KFold(n_splits=5, shuffle=True)\n",
    "\n",
    "# `means` will be a list of mean accuracies (one entry per fold)\n",
    "means = []\n",
    "for training,testing in kf.split(features):\n",
    "    # We fit a model for this fold, then apply it to the\n",
    "    # testing data with `predict`:\n",
    "    classifier.fit(features[training], labels[training])\n",
    "    prediction = classifier.predict(features[testing])\n",
    "\n",
    "    # np.mean on an array of booleans returns fraction\n",
    "    # of correct decisions for this fold:\n",
    "    curmean = np.mean(prediction == labels[testing])\n",
    "    means.append(curmean)\n",
    "print(\"Mean accuracy: {:.1%}\".format(np.mean(means)))"
   ]
  },
  {
   "cell_type": "code",
   "execution_count": 10,
   "id": "classical-threshold",
   "metadata": {},
   "outputs": [
    {
     "name": "stdout",
     "output_type": "stream",
     "text": [
      "Mean accuracy: 94.0%\n"
     ]
    }
   ],
   "source": [
    "from sklearn.pipeline import Pipeline\n",
    "from sklearn.preprocessing import StandardScaler\n",
    "classifier = KNeighborsClassifier(n_neighbors=1)\n",
    "classifier = Pipeline([('norm', StandardScaler()), ('knn', classifier)])\n",
    "\n",
    "means = []\n",
    "for training,testing in kf.split(features):\n",
    "    # We learn a model for this fold with `fit` and then apply it to the\n",
    "    # testing data with `predict`:\n",
    "    classifier.fit(features[training], target[training])\n",
    "    prediction = classifier.predict(features[testing])\n",
    "\n",
    "    # np.mean on an array of booleans returns fraction\n",
    "    # of correct decisions for this fold:\n",
    "    curmean = np.mean(prediction == target[testing])\n",
    "    means.append(curmean)\n",
    "print('Mean accuracy: {:.1%}'.format(np.mean(means)))"
   ]
  }
 ],
 "metadata": {
  "kernelspec": {
   "display_name": "Python 3",
   "language": "python",
   "name": "python3"
  },
  "language_info": {
   "codemirror_mode": {
    "name": "ipython",
    "version": 3
   },
   "file_extension": ".py",
   "mimetype": "text/x-python",
   "name": "python",
   "nbconvert_exporter": "python",
   "pygments_lexer": "ipython3",
   "version": "3.8.3"
  }
 },
 "nbformat": 4,
 "nbformat_minor": 5
}
